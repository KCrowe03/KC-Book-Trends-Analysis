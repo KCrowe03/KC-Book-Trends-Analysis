{
 "cells": [
  {
   "cell_type": "code",
   "execution_count": 12,
   "id": "b73db97d-0dfa-4e99-8bce-e38128aaf3e4",
   "metadata": {},
   "outputs": [
    {
     "name": "stdout",
     "output_type": "stream",
     "text": [
      "Goodreads Dataset:\n",
      "   bookID                                              title  \\\n",
      "0       1  Harry Potter and the Half-Blood Prince (Harry ...   \n",
      "1       2  Harry Potter and the Order of the Phoenix (Har...   \n",
      "2       4  Harry Potter and the Chamber of Secrets (Harry...   \n",
      "3       5  Harry Potter and the Prisoner of Azkaban (Harr...   \n",
      "4       8  Harry Potter Boxed Set  Books 1-5 (Harry Potte...   \n",
      "\n",
      "                      authors average_rating        isbn       isbn13  \\\n",
      "0  J.K. Rowling/Mary GrandPré           4.57   439785960  9.78044E+12   \n",
      "1  J.K. Rowling/Mary GrandPré           4.49   439358078  9.78044E+12   \n",
      "2                J.K. Rowling           4.42   439554896  9.78044E+12   \n",
      "3  J.K. Rowling/Mary GrandPré           4.56  043965548X  9.78044E+12   \n",
      "4  J.K. Rowling/Mary GrandPré           4.78   439682584  9.78044E+12   \n",
      "\n",
      "  language_code   num_pages  ratings_count  text_reviews_count  \\\n",
      "0           eng         652        2095690               27591   \n",
      "1           eng         870        2153167               29221   \n",
      "2           eng         352           6333                 244   \n",
      "3           eng         435        2339585               36325   \n",
      "4           eng        2690          41428                 164   \n",
      "\n",
      "  publication_date        publisher Unnamed: 12  \n",
      "0        9/16/2006  Scholastic Inc.         NaN  \n",
      "1         9/1/2004  Scholastic Inc.         NaN  \n",
      "2        11/1/2003       Scholastic         NaN  \n",
      "3         5/1/2004  Scholastic Inc.         NaN  \n",
      "4        9/13/2004       Scholastic         NaN  \n",
      "\n",
      "User Ratings Dataset:\n",
      "   ID                                               Name           Rating\n",
      "0   1  Agile Web Development with Rails: A Pragmatic ...   it was amazing\n",
      "1   1  The Restaurant at the End of the Universe (Hit...   it was amazing\n",
      "2   1                                         Siddhartha   it was amazing\n",
      "3   1  The Clock of the Long Now: Time and Responsibi...  really liked it\n",
      "4   1            Ready Player One (Ready Player One, #1)  really liked it\n"
     ]
    }
   ],
   "source": [
    "import pandas as pd\n",
    "\n",
    "# Load both datasets using relative paths\n",
    "goodreads_df = pd.read_csv(\"../data/goodreads_books.csv\")\n",
    "ratings_df = pd.read_csv(\"../data/user_rating_0_to_1000.csv\")\n",
    "\n",
    "# Preview both\n",
    "print(\"Goodreads Dataset:\")\n",
    "print(goodreads_df.head())\n",
    "\n",
    "print(\"\\nUser Ratings Dataset:\")\n",
    "print(ratings_df.head())\n"
   ]
  },
  {
   "cell_type": "code",
   "execution_count": 13,
   "id": "2f0a0e37-3a96-4ee3-b2f3-5b1bdb342407",
   "metadata": {},
   "outputs": [
    {
     "name": "stdout",
     "output_type": "stream",
     "text": [
      "Goodreads shape: (11121, 13)\n",
      "Ratings shape: (51945, 3)\n",
      "\n",
      "Goodreads Columns:\n",
      "Index(['bookID', 'title', 'authors', 'average_rating', 'isbn', 'isbn13',\n",
      "       'language_code', '  num_pages', 'ratings_count', 'text_reviews_count',\n",
      "       'publication_date', 'publisher', 'Unnamed: 12'],\n",
      "      dtype='object')\n",
      "\n",
      "Ratings Columns:\n",
      "Index(['ID', 'Name', 'Rating'], dtype='object')\n",
      "\n",
      "Missing values (Goodreads):\n",
      "bookID                    0\n",
      "title                     0\n",
      "authors                   0\n",
      "average_rating            0\n",
      "isbn                      0\n",
      "isbn13                    0\n",
      "language_code             0\n",
      "  num_pages               0\n",
      "ratings_count             0\n",
      "text_reviews_count        0\n",
      "publication_date          0\n",
      "publisher                 0\n",
      "Unnamed: 12           11118\n",
      "dtype: int64\n",
      "\n",
      "Missing values (Ratings):\n",
      "ID        0\n",
      "Name      0\n",
      "Rating    0\n",
      "dtype: int64\n"
     ]
    }
   ],
   "source": [
    "# Dataset shapes\n",
    "print(\"Goodreads shape:\", goodreads_df.shape)\n",
    "print(\"Ratings shape:\", ratings_df.shape)\n",
    "\n",
    "# Column info\n",
    "print(\"\\nGoodreads Columns:\")\n",
    "print(goodreads_df.columns)\n",
    "\n",
    "print(\"\\nRatings Columns:\")\n",
    "print(ratings_df.columns)\n",
    "\n",
    "# Missing values\n",
    "print(\"\\nMissing values (Goodreads):\")\n",
    "print(goodreads_df.isnull().sum())\n",
    "\n",
    "print(\"\\nMissing values (Ratings):\")\n",
    "print(ratings_df.isnull().sum())\n"
   ]
  },
  {
   "cell_type": "markdown",
   "id": "cbcd5746",
   "metadata": {},
   "source": [
    "###  Overview from EDA \n",
    "\n",
    "The Kaggle Goodreads dataset has 11,121 rows and 13 columns. The ratings dataset is larger, with 51,945 rows and only 3 columns.\n",
    "I checked the column names in both datasets to see what kinds of data are available. The Goodreads data includes book titles, authors, average ratings, number of pages, review counts, and more. The ratings dataset looks like user-submitted file with ID, name, and a rating.\n",
    "I looked for any missing values using .isnull() and .sum() and every column has a value in every row. \n",
    "The Goodreads dataset includes a column called \"Unnamed: 12\", which I need to remove and \"  num_pages\" column has extra spaces in its name. \n",
    "\n"
   ]
  },
  {
   "cell_type": "code",
   "execution_count": 14,
   "id": "88864704",
   "metadata": {},
   "outputs": [
    {
     "name": "stdout",
     "output_type": "stream",
     "text": [
      "<class 'pandas.core.frame.DataFrame'>\n",
      "RangeIndex: 51945 entries, 0 to 51944\n",
      "Data columns (total 3 columns):\n",
      " #   Column  Non-Null Count  Dtype \n",
      "---  ------  --------------  ----- \n",
      " 0   ID      51945 non-null  int64 \n",
      " 1   Name    51945 non-null  object\n",
      " 2   Rating  51945 non-null  object\n",
      "dtypes: int64(1), object(2)\n",
      "memory usage: 1.2+ MB\n"
     ]
    }
   ],
   "source": [
    "ratings_df.info()\n"
   ]
  },
  {
   "cell_type": "code",
   "execution_count": 15,
   "id": "01f1d767",
   "metadata": {},
   "outputs": [
    {
     "name": "stdout",
     "output_type": "stream",
     "text": [
      "['it was amazing' 'really liked it' 'liked it' 'did not like it'\n",
      " 'it was ok' \"This user doesn't have any rating\"]\n"
     ]
    }
   ],
   "source": [
    "print(ratings_df['Rating'].unique())\n"
   ]
  }
 ],
 "metadata": {
  "kernelspec": {
   "display_name": "Python 3",
   "language": "python",
   "name": "python3"
  },
  "language_info": {
   "codemirror_mode": {
    "name": "ipython",
    "version": 3
   },
   "file_extension": ".py",
   "mimetype": "text/x-python",
   "name": "python",
   "nbconvert_exporter": "python",
   "pygments_lexer": "ipython3",
   "version": "3.12.5"
  }
 },
 "nbformat": 4,
 "nbformat_minor": 5
}
